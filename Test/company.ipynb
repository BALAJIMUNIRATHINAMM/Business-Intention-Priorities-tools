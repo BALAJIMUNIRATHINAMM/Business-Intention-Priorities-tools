{
 "cells": [
  {
   "cell_type": "code",
   "execution_count": 2,
   "metadata": {},
   "outputs": [],
   "source": [
    "import pandas as pd"
   ]
  },
  {
   "cell_type": "code",
   "execution_count": 5,
   "metadata": {},
   "outputs": [
    {
     "data": {
      "text/plain": [
       "Index(['S.No.', 'Company', 'Year', 'Report Name', 'Report Text', 'Report Type',\n",
       "       'Quarter', 'Refresh Required', 'Refreshed Date', 'Ai Model Prompt',\n",
       "       'Formatted Priorities', 'Formatted Priorities Text', 'GPT Version',\n",
       "       'Is Outdated', 'Ready For Run', 'Ready To Push', 'Account Type',\n",
       "       'Is Format Invalid', 'Priority Consolidation Flag',\n",
       "       'Quarter Considered', 'Gpt Token Length', 'Created By', 'Modified By',\n",
       "       'Created On', 'Modified On', 'Data Observability'],\n",
       "      dtype='object')"
      ]
     },
     "execution_count": 5,
     "metadata": {},
     "output_type": "execute_result"
    }
   ],
   "source": [
    "df = pd.read_csv(r'c:\\Users\\Prabhu\\Downloads\\Company Priority Bf Reports Mapping Schema.csv')\n",
    "df.columns"
   ]
  },
  {
   "cell_type": "code",
   "execution_count": 6,
   "metadata": {},
   "outputs": [],
   "source": [
    "import json\n",
    "import pandas as pd\n",
    "\n",
    "# Function to extract priorities from the DataFrame\n",
    "def extract_priorities(df):\n",
    "    # Initialize an empty list to store the extracted data\n",
    "    extracted_data = []\n",
    "\n",
    "    # Iterate over each row in the DataFrame\n",
    "    for index, row in df.iterrows():\n",
    "        company = row['Company']\n",
    "        year = row['Year']\n",
    "        report_name = row['Report Name'].strip()  # Strip extra spaces\n",
    "        quarter = row['Quarter']\n",
    "        report_type = row['Report Type']\n",
    "        refreshed_date = row['Refreshed Date']\n",
    "\n",
    "        try:\n",
    "            # Attempt to load as JSON, if it's a valid string\n",
    "            priorities = json.loads(str(row['Formatted Priorities']))\n",
    "        except json.JSONDecodeError:\n",
    "            # Handle cases where it's not valid JSON\n",
    "            print(f\"Warning: Invalid JSON for Company: {company}\")\n",
    "            continue\n",
    "\n",
    "        # Iterate over each priority category\n",
    "        for category, priority_list in priorities.items():\n",
    "            for priority in priority_list:\n",
    "                extracted_data.append({\n",
    "                    'Company': company,\n",
    "                    'Year': year,\n",
    "                    'Report Name': report_name,\n",
    "                    'Quarter': quarter,\n",
    "                    'Report Type': report_type,\n",
    "                    'Refreshed Date': refreshed_date,\n",
    "                    'Priority': priority.get('priority', 'N/A'),  # Handle missing keys\n",
    "                    'Description': priority.get('description', 'N/A')\n",
    "                })\n",
    "\n",
    "    # Convert the extracted data into a DataFrame\n",
    "    extracted_df = pd.DataFrame(extracted_data)\n",
    "\n",
    "    return extracted_df\n"
   ]
  },
  {
   "cell_type": "code",
   "execution_count": 7,
   "metadata": {},
   "outputs": [],
   "source": [
    "extracted_df = extract_priorities(df)"
   ]
  },
  {
   "cell_type": "code",
   "execution_count": 12,
   "metadata": {},
   "outputs": [],
   "source": [
    "extracted_df.to_csv(r'c:\\Users\\Prabhu\\Downloads\\extracted_priorities.csv', index=False)"
   ]
  },
  {
   "cell_type": "code",
   "execution_count": 10,
   "metadata": {},
   "outputs": [],
   "source": [
    "extracted_df['Description']  = extracted_df['Description'].apply(lambda x: ' '.join(x))"
   ]
  },
  {
   "cell_type": "code",
   "execution_count": 13,
   "metadata": {},
   "outputs": [
    {
     "data": {
      "text/plain": [
       "Index(['Company', 'Year', 'Report Name', 'Quarter', 'Report Type',\n",
       "       'Refreshed Date', 'Priority', 'Description'],\n",
       "      dtype='object')"
      ]
     },
     "execution_count": 13,
     "metadata": {},
     "output_type": "execute_result"
    }
   ],
   "source": [
    "extracted_df.columns"
   ]
  },
  {
   "cell_type": "code",
   "execution_count": null,
   "metadata": {},
   "outputs": [],
   "source": [
    "'Company', 'Year', 'Report Name', 'Quarter', 'Report Type','Refreshed Date', 'Priority', 'Description'"
   ]
  }
 ],
 "metadata": {
  "kernelspec": {
   "display_name": "Python 3",
   "language": "python",
   "name": "python3"
  },
  "language_info": {
   "codemirror_mode": {
    "name": "ipython",
    "version": 3
   },
   "file_extension": ".py",
   "mimetype": "text/x-python",
   "name": "python",
   "nbconvert_exporter": "python",
   "pygments_lexer": "ipython3",
   "version": "3.11.9"
  }
 },
 "nbformat": 4,
 "nbformat_minor": 2
}
