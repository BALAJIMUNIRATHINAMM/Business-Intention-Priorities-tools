{
 "cells": [
  {
   "cell_type": "markdown",
   "metadata": {},
   "source": [
    "Signal Priority Report BF Schema Formatted_Priorities"
   ]
  },
  {
   "cell_type": "code",
   "execution_count": 8,
   "metadata": {},
   "outputs": [
    {
     "name": "stdout",
     "output_type": "stream",
     "text": [
      "Collecting pandas\n",
      "  Using cached pandas-2.2.3-cp311-cp311-win_amd64.whl.metadata (19 kB)\n",
      "Collecting numpy>=1.23.2 (from pandas)\n",
      "  Downloading numpy-2.2.4-cp311-cp311-win_amd64.whl.metadata (60 kB)\n",
      "Requirement already satisfied: python-dateutil>=2.8.2 in c:\\users\\prabhu\\appdata\\local\\packages\\pythonsoftwarefoundation.python.3.11_qbz5n2kfra8p0\\localcache\\local-packages\\python311\\site-packages (from pandas) (2.9.0.post0)\n",
      "Collecting pytz>=2020.1 (from pandas)\n",
      "  Downloading pytz-2025.1-py2.py3-none-any.whl.metadata (22 kB)\n",
      "Collecting tzdata>=2022.7 (from pandas)\n",
      "  Downloading tzdata-2025.1-py2.py3-none-any.whl.metadata (1.4 kB)\n",
      "Requirement already satisfied: six>=1.5 in c:\\users\\prabhu\\appdata\\local\\packages\\pythonsoftwarefoundation.python.3.11_qbz5n2kfra8p0\\localcache\\local-packages\\python311\\site-packages (from python-dateutil>=2.8.2->pandas) (1.17.0)\n",
      "Downloading pandas-2.2.3-cp311-cp311-win_amd64.whl (11.6 MB)\n",
      "   ---------------------------------------- 0.0/11.6 MB ? eta -:--:--\n",
      "   ---- ----------------------------------- 1.3/11.6 MB 6.7 MB/s eta 0:00:02\n",
      "   --------- ------------------------------ 2.9/11.6 MB 7.0 MB/s eta 0:00:02\n",
      "   --------------- ------------------------ 4.5/11.6 MB 7.1 MB/s eta 0:00:02\n",
      "   --------------------- ------------------ 6.3/11.6 MB 7.4 MB/s eta 0:00:01\n",
      "   ------------------------- -------------- 7.3/11.6 MB 7.0 MB/s eta 0:00:01\n",
      "   -------------------------------- ------- 9.4/11.6 MB 7.3 MB/s eta 0:00:01\n",
      "   ------------------------------------- -- 10.7/11.6 MB 7.2 MB/s eta 0:00:01\n",
      "   ---------------------------------------- 11.6/11.6 MB 6.8 MB/s eta 0:00:00\n",
      "Downloading numpy-2.2.4-cp311-cp311-win_amd64.whl (12.9 MB)\n",
      "   ---------------------------------------- 0.0/12.9 MB ? eta -:--:--\n",
      "   ---- ----------------------------------- 1.6/12.9 MB 8.4 MB/s eta 0:00:02\n",
      "   -------- ------------------------------- 2.9/12.9 MB 8.0 MB/s eta 0:00:02\n",
      "   ------------ --------------------------- 4.2/12.9 MB 7.2 MB/s eta 0:00:02\n",
      "   ---------------- ----------------------- 5.2/12.9 MB 6.6 MB/s eta 0:00:02\n",
      "   ----------------- ---------------------- 5.8/12.9 MB 6.4 MB/s eta 0:00:02\n",
      "   ------------------- -------------------- 6.3/12.9 MB 5.1 MB/s eta 0:00:02\n",
      "   --------------------- ------------------ 6.8/12.9 MB 4.7 MB/s eta 0:00:02\n",
      "   ------------------------ --------------- 7.9/12.9 MB 4.6 MB/s eta 0:00:02\n",
      "   ---------------------------- ----------- 9.2/12.9 MB 4.8 MB/s eta 0:00:01\n",
      "   -------------------------------- ------- 10.5/12.9 MB 4.9 MB/s eta 0:00:01\n",
      "   ---------------------------------- ----- 11.3/12.9 MB 4.9 MB/s eta 0:00:01\n",
      "   -------------------------------------- - 12.3/12.9 MB 4.8 MB/s eta 0:00:01\n",
      "   ---------------------------------------- 12.9/12.9 MB 4.7 MB/s eta 0:00:00\n",
      "Downloading pytz-2025.1-py2.py3-none-any.whl (507 kB)\n",
      "Downloading tzdata-2025.1-py2.py3-none-any.whl (346 kB)\n",
      "Installing collected packages: pytz, tzdata, numpy, pandas\n",
      "Successfully installed numpy-2.2.4 pandas-2.2.3 pytz-2025.1 tzdata-2025.1\n",
      "Note: you may need to restart the kernel to use updated packages.\n"
     ]
    }
   ],
   "source": [
    "#->>Requirements package Install\n",
    "%pip install pandas"
   ]
  },
  {
   "cell_type": "code",
   "execution_count": 35,
   "metadata": {},
   "outputs": [],
   "source": [
    "import json\n",
    "\n",
    "# Assuming you have a DataFrame df with columns 'Company' and 'Formatted Priorities'\n",
    "\n",
    "def extract_priorities(df):\n",
    "    # Initialize an empty list to store the extracted data\n",
    "    extracted_data = []\n",
    "\n",
    "    # Iterate over each row in the DataFrame\n",
    "    for index, row in df.iterrows():\n",
    "        company = row['Company']\n",
    "        publication_month = row['Publication Month']\n",
    "        months_considered = row['Months Considered']\n",
    "        highlights_month = row['Highlights Month']\n",
    "        priority_type = row['Priority Type']\n",
    "        try:\n",
    "            # Attempt to load as JSON, if it's a valid string\n",
    "            priorities = json.loads(str(row['Formatted Priorities']))\n",
    "        except json.JSONDecodeError:\n",
    "            # Handle cases where it's not valid JSON, e.g., print a warning or skip\n",
    "            print(f\"Warning: Invalid JSON for Company: {company}\")\n",
    "            continue\n",
    "        # Iterate over each priority category\n",
    "        for category, priority_list in priorities.items():\n",
    "            # Iterate over each priority in the list\n",
    "            for priority in priority_list:\n",
    "                extracted_data.append({\n",
    "                    'Company': company,\n",
    "                    'Publication Month': publication_month,\n",
    "                    'Months Considered': months_considered,\n",
    "                    'Highlights Month': highlights_month,\n",
    "                    'Priority Type': priority_type,\n",
    "                    'BF': category,\n",
    "                    'Priority': priority['priority'],\n",
    "                    'Description': priority['description']\n",
    "                })\n",
    "\n",
    "    # Convert the extracted data into a DataFrame\n",
    "    extracted_df = pd.DataFrame(extracted_data)\n",
    "\n",
    "    return extracted_df"
   ]
  },
  {
   "cell_type": "code",
   "execution_count": 36,
   "metadata": {},
   "outputs": [],
   "source": [
    "import pandas as pd\n",
    "df = pd.read_csv(r'c:\\Users\\Prabhu\\Downloads\\Signal Priority Reports BF Mapping Schema.csv')"
   ]
  },
  {
   "cell_type": "code",
   "execution_count": 37,
   "metadata": {},
   "outputs": [],
   "source": [
    "extracted_df = extract_priorities(df)"
   ]
  },
  {
   "cell_type": "code",
   "execution_count": 38,
   "metadata": {},
   "outputs": [],
   "source": [
    "from datetime import datetime\n",
    "date_str = datetime.today().strftime(\"%Y_%m_%d_%H_%M\")"
   ]
  },
  {
   "cell_type": "code",
   "execution_count": 34,
   "metadata": {},
   "outputs": [],
   "source": [
    "extracted_df['Description']  = extracted_df['Description'].apply(lambda x: ' '.join(x))"
   ]
  },
  {
   "cell_type": "code",
   "execution_count": null,
   "metadata": {},
   "outputs": [],
   "source": [
    "extracted_df.to_csv(f'extracted_priorities_{date_str}.csv', index=False)"
   ]
  },
  {
   "cell_type": "code",
   "execution_count": 3,
   "metadata": {},
   "outputs": [
    {
     "ename": "NameError",
     "evalue": "name 'extracted_df' is not defined",
     "output_type": "error",
     "traceback": [
      "\u001b[31m---------------------------------------------------------------------------\u001b[39m",
      "\u001b[31mNameError\u001b[39m                                 Traceback (most recent call last)",
      "\u001b[36mCell\u001b[39m\u001b[36m \u001b[39m\u001b[32mIn[3]\u001b[39m\u001b[32m, line 1\u001b[39m\n\u001b[32m----> \u001b[39m\u001b[32m1\u001b[39m \u001b[43mextracted_df\u001b[49m.columns\n",
      "\u001b[31mNameError\u001b[39m: name 'extracted_df' is not defined"
     ]
    }
   ],
   "source": [
    "extracted_df.columns"
   ]
  },
  {
   "cell_type": "code",
   "execution_count": null,
   "metadata": {},
   "outputs": [],
   "source": []
  }
 ],
 "metadata": {
  "kernelspec": {
   "display_name": "Python 3",
   "language": "python",
   "name": "python3"
  },
  "language_info": {
   "codemirror_mode": {
    "name": "ipython",
    "version": 3
   },
   "file_extension": ".py",
   "mimetype": "text/x-python",
   "name": "python",
   "nbconvert_exporter": "python",
   "pygments_lexer": "ipython3",
   "version": "3.11.9"
  }
 },
 "nbformat": 4,
 "nbformat_minor": 2
}
